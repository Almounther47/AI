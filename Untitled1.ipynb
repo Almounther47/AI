{
  "nbformat": 4,
  "nbformat_minor": 0,
  "metadata": {
    "colab": {
      "provenance": [],
      "gpuType": "T4"
    },
    "kernelspec": {
      "name": "python3",
      "display_name": "Python 3"
    },
    "language_info": {
      "name": "python"
    },
    "accelerator": "GPU"
  },
  "cells": [
    {
      "cell_type": "code",
      "execution_count": 1,
      "metadata": {
        "colab": {
          "base_uri": "https://localhost:8080/"
        },
        "id": "4yiJjpoBleP7",
        "outputId": "239e65ea-63eb-4fdc-d6a5-a0cdd4cfe041"
      },
      "outputs": [
        {
          "output_type": "stream",
          "name": "stdout",
          "text": [
            "Mounted at /content/drive\n"
          ]
        }
      ],
      "source": [
        "#My dataset is available in googledrive; so I am accessing my drive from colab\n",
        "from google.colab import drive\n",
        "drive.mount('/content/drive', force_remount=True)\n",
        "#Once this is executed, you will see your drive appearing on the left hand side"
      ]
    },
    {
      "cell_type": "code",
      "source": [
        "# Define paths to the dataset\n",
        "train_dir = '/content/drive/MyDrive/Crocodile vs Alligator/Test'  # Update with your actual path\n",
        "test_dir = '/content/drive/MyDrive/Crocodile vs Alligator/Test'    # Update with your actual path"
      ],
      "metadata": {
        "id": "fMLmVX0Ilpxe"
      },
      "execution_count": 2,
      "outputs": []
    },
    {
      "cell_type": "code",
      "source": [
        "import os\n",
        "print(len(os.listdir('/content/drive/MyDrive/Crocodile vs Alligator/Train/alligator')))\n",
        "print(len(os.listdir('/content/drive/MyDrive/Crocodile vs Alligator/Train/crocodile')))\n",
        "print(len(os.listdir('/content/drive/MyDrive/Crocodile vs Alligator/Test/alligator')))\n",
        "print(len(os.listdir('/content/drive/MyDrive/Crocodile vs Alligator/Test/crocodile')))"
      ],
      "metadata": {
        "colab": {
          "base_uri": "https://localhost:8080/"
        },
        "id": "NM8U-YrPmiYI",
        "outputId": "f6c965dd-941b-4612-f437-e86b28fac18d"
      },
      "execution_count": 3,
      "outputs": [
        {
          "output_type": "stream",
          "name": "stdout",
          "text": [
            "500\n",
            "500\n",
            "40\n",
            "40\n"
          ]
        }
      ]
    },
    {
      "cell_type": "code",
      "source": [
        "import tensorflow as tf\n",
        "from tensorflow.keras.preprocessing.image import ImageDataGenerator\n",
        "\n",
        "# Enhanced data augmentation for training set\n",
        "train_datagen = ImageDataGenerator(\n",
        "    rescale=1./255,\n",
        "    validation_split=0.2,\n",
        "    rotation_range=20,\n",
        "    width_shift_range=0.2,\n",
        "    height_shift_range=0.2,\n",
        "    shear_range=0.2,\n",
        "    zoom_range=0.2,\n",
        "    horizontal_flip=True\n",
        ")\n",
        "\n",
        "# Validation set should not have augmentation\n",
        "validation_datagen = ImageDataGenerator(\n",
        "    rescale=1./255,\n",
        "    validation_split=0.2\n",
        ")\n",
        "\n",
        "# Load and prepare training data\n",
        "train_data = train_datagen.flow_from_directory(\n",
        "    train_dir,\n",
        "    target_size=(256,256),\n",
        "    batch_size=32,\n",
        "    class_mode='binary',\n",
        "    subset='training'\n",
        ")\n",
        "\n",
        "# Load and prepare validation data\n",
        "validation_data = validation_datagen.flow_from_directory(\n",
        "    train_dir,\n",
        "    target_size=(256,256),\n",
        "    batch_size=32,\n",
        "    class_mode='binary',\n",
        "    subset='validation'\n",
        ")"
      ],
      "metadata": {
        "colab": {
          "base_uri": "https://localhost:8080/"
        },
        "id": "QChYGnX33cIw",
        "outputId": "e254f005-0869-445d-c840-0eab4edaeac6"
      },
      "execution_count": 24,
      "outputs": [
        {
          "output_type": "stream",
          "name": "stdout",
          "text": [
            "Found 799 images belonging to 2 classes.\n",
            "Found 198 images belonging to 2 classes.\n"
          ]
        }
      ]
    },
    {
      "cell_type": "code",
      "source": [
        "from tensorflow import keras\n",
        "from keras import Sequential\n",
        "from keras.layers import Dense,Conv2D,MaxPooling2D,Flatten,BatchNormalization,UpSampling2D, Dropout"
      ],
      "metadata": {
        "id": "TERWg6tf_CQ8"
      },
      "execution_count": 12,
      "outputs": []
    },
    {
      "cell_type": "code",
      "source": [
        "from tensorflow.keras.applications import VGG16\n",
        "from tensorflow.keras.layers import Flatten, Dense, Dropout\n",
        "from tensorflow.keras.models import Sequential\n",
        "\n",
        "# Load the VGG16 model with pre-trained weights, exclude top layers\n",
        "base_model = VGG16(input_shape=(256, 256, 3), include_top=False, weights='imagenet')\n",
        "base_model.trainable = False  # Freeze the base model\n",
        "\n",
        "# Create a new model on top of the pre-trained base model\n",
        "model = Sequential([\n",
        "    base_model,\n",
        "    Flatten(),\n",
        "    Dense(128, activation='relu'),\n",
        "    Dropout(0.5),  # Increase dropout rate to 50%\n",
        "    Dense(1, activation='sigmoid')\n",
        "])\n",
        "\n",
        "# Compile the model\n",
        "model.compile(optimizer='adam', loss='binary_crossentropy', metrics=['accuracy'])"
      ],
      "metadata": {
        "id": "R-c-rNQl_IYK"
      },
      "execution_count": 26,
      "outputs": []
    },
    {
      "cell_type": "code",
      "source": [
        "from tensorflow.keras.callbacks import ReduceLROnPlateau\n",
        "\n",
        "# Reduce learning rate when a metric has stopped improving\n",
        "reduce_lr = ReduceLROnPlateau(monitor='val_loss', factor=0.2, patience=5, min_lr=0.0001)"
      ],
      "metadata": {
        "id": "O4CyaW7Bc2N_"
      },
      "execution_count": 27,
      "outputs": []
    },
    {
      "cell_type": "code",
      "source": [
        "from keras.optimizers import Adam\n",
        "model.compile(optimizer=Adam(learning_rate=0.001),loss='binary_crossentropy',metrics=['accuracy']) #binary_crossentropy - binary classification"
      ],
      "metadata": {
        "id": "my7mi2hx_Njr"
      },
      "execution_count": 28,
      "outputs": []
    },
    {
      "cell_type": "code",
      "source": [
        "# Train the model with callbacks\n",
        "history = model.fit(\n",
        "    train_data,\n",
        "    epochs=30,\n",
        "    validation_data=validation_data,\n",
        "    callbacks=[reduce_lr]\n",
        ")"
      ],
      "metadata": {
        "colab": {
          "base_uri": "https://localhost:8080/"
        },
        "id": "aWjFKugh_Vob",
        "outputId": "b5a0a48c-d705-42b6-853b-514ad654a20f"
      },
      "execution_count": 29,
      "outputs": [
        {
          "output_type": "stream",
          "name": "stdout",
          "text": [
            "Epoch 1/30\n",
            "25/25 [==============================] - 33s 981ms/step - loss: 1.6147 - accuracy: 0.4681 - val_loss: 0.6866 - val_accuracy: 0.5556 - lr: 0.0010\n",
            "Epoch 2/30\n",
            "25/25 [==============================] - 19s 748ms/step - loss: 0.7073 - accuracy: 0.4994 - val_loss: 0.6930 - val_accuracy: 0.5202 - lr: 0.0010\n",
            "Epoch 3/30\n",
            "25/25 [==============================] - 18s 721ms/step - loss: 0.6943 - accuracy: 0.4981 - val_loss: 0.6936 - val_accuracy: 0.5303 - lr: 0.0010\n",
            "Epoch 4/30\n",
            "25/25 [==============================] - 18s 716ms/step - loss: 0.6949 - accuracy: 0.4981 - val_loss: 0.6931 - val_accuracy: 0.5051 - lr: 0.0010\n",
            "Epoch 5/30\n",
            "25/25 [==============================] - 18s 725ms/step - loss: 0.6902 - accuracy: 0.5131 - val_loss: 0.6906 - val_accuracy: 0.5657 - lr: 0.0010\n",
            "Epoch 6/30\n",
            "25/25 [==============================] - 18s 713ms/step - loss: 0.6901 - accuracy: 0.5482 - val_loss: 0.6954 - val_accuracy: 0.5000 - lr: 0.0010\n",
            "Epoch 7/30\n",
            "25/25 [==============================] - 18s 707ms/step - loss: 0.6905 - accuracy: 0.5094 - val_loss: 0.6909 - val_accuracy: 0.5606 - lr: 2.0000e-04\n",
            "Epoch 8/30\n",
            "25/25 [==============================] - 19s 754ms/step - loss: 0.6894 - accuracy: 0.5369 - val_loss: 0.6872 - val_accuracy: 0.5758 - lr: 2.0000e-04\n",
            "Epoch 9/30\n",
            "25/25 [==============================] - 18s 717ms/step - loss: 0.6865 - accuracy: 0.5257 - val_loss: 0.6859 - val_accuracy: 0.5152 - lr: 2.0000e-04\n",
            "Epoch 10/30\n",
            "25/25 [==============================] - 18s 713ms/step - loss: 0.6834 - accuracy: 0.5544 - val_loss: 0.6867 - val_accuracy: 0.4899 - lr: 2.0000e-04\n",
            "Epoch 11/30\n",
            "25/25 [==============================] - 19s 738ms/step - loss: 0.6820 - accuracy: 0.5482 - val_loss: 0.6857 - val_accuracy: 0.5101 - lr: 2.0000e-04\n",
            "Epoch 12/30\n",
            "25/25 [==============================] - 18s 713ms/step - loss: 0.6795 - accuracy: 0.5419 - val_loss: 0.6837 - val_accuracy: 0.5253 - lr: 2.0000e-04\n",
            "Epoch 13/30\n",
            "25/25 [==============================] - 18s 708ms/step - loss: 0.6813 - accuracy: 0.5657 - val_loss: 0.6835 - val_accuracy: 0.5202 - lr: 2.0000e-04\n",
            "Epoch 14/30\n",
            "25/25 [==============================] - 18s 712ms/step - loss: 0.6781 - accuracy: 0.5594 - val_loss: 0.6830 - val_accuracy: 0.5354 - lr: 2.0000e-04\n",
            "Epoch 15/30\n",
            "25/25 [==============================] - 19s 768ms/step - loss: 0.6806 - accuracy: 0.5707 - val_loss: 0.6825 - val_accuracy: 0.5404 - lr: 2.0000e-04\n",
            "Epoch 16/30\n",
            "25/25 [==============================] - 18s 718ms/step - loss: 0.6797 - accuracy: 0.5657 - val_loss: 0.6847 - val_accuracy: 0.5101 - lr: 2.0000e-04\n",
            "Epoch 17/30\n",
            "25/25 [==============================] - 18s 721ms/step - loss: 0.6825 - accuracy: 0.5657 - val_loss: 0.6837 - val_accuracy: 0.4798 - lr: 2.0000e-04\n",
            "Epoch 18/30\n",
            "25/25 [==============================] - 18s 726ms/step - loss: 0.6754 - accuracy: 0.5682 - val_loss: 0.6814 - val_accuracy: 0.5354 - lr: 2.0000e-04\n",
            "Epoch 19/30\n",
            "25/25 [==============================] - 17s 691ms/step - loss: 0.6729 - accuracy: 0.5782 - val_loss: 0.6815 - val_accuracy: 0.5202 - lr: 2.0000e-04\n",
            "Epoch 20/30\n",
            "25/25 [==============================] - 18s 712ms/step - loss: 0.6731 - accuracy: 0.5620 - val_loss: 0.6829 - val_accuracy: 0.4646 - lr: 2.0000e-04\n",
            "Epoch 21/30\n",
            "25/25 [==============================] - 19s 747ms/step - loss: 0.6729 - accuracy: 0.5645 - val_loss: 0.6817 - val_accuracy: 0.5303 - lr: 2.0000e-04\n",
            "Epoch 22/30\n",
            "25/25 [==============================] - 18s 726ms/step - loss: 0.6707 - accuracy: 0.5945 - val_loss: 0.6836 - val_accuracy: 0.5202 - lr: 2.0000e-04\n",
            "Epoch 23/30\n",
            "25/25 [==============================] - 18s 719ms/step - loss: 0.6718 - accuracy: 0.5795 - val_loss: 0.6807 - val_accuracy: 0.5202 - lr: 2.0000e-04\n",
            "Epoch 24/30\n",
            "25/25 [==============================] - 20s 781ms/step - loss: 0.6738 - accuracy: 0.5632 - val_loss: 0.6854 - val_accuracy: 0.5253 - lr: 2.0000e-04\n",
            "Epoch 25/30\n",
            "25/25 [==============================] - 18s 736ms/step - loss: 0.6718 - accuracy: 0.5745 - val_loss: 0.6808 - val_accuracy: 0.5556 - lr: 2.0000e-04\n",
            "Epoch 26/30\n",
            "25/25 [==============================] - 18s 724ms/step - loss: 0.6722 - accuracy: 0.5832 - val_loss: 0.6796 - val_accuracy: 0.5404 - lr: 2.0000e-04\n",
            "Epoch 27/30\n",
            "25/25 [==============================] - 18s 717ms/step - loss: 0.6722 - accuracy: 0.5707 - val_loss: 0.6836 - val_accuracy: 0.5101 - lr: 2.0000e-04\n",
            "Epoch 28/30\n",
            "25/25 [==============================] - 18s 725ms/step - loss: 0.6592 - accuracy: 0.6020 - val_loss: 0.6888 - val_accuracy: 0.5000 - lr: 2.0000e-04\n",
            "Epoch 29/30\n",
            "25/25 [==============================] - 19s 768ms/step - loss: 0.6789 - accuracy: 0.5695 - val_loss: 0.6786 - val_accuracy: 0.5455 - lr: 2.0000e-04\n",
            "Epoch 30/30\n",
            "25/25 [==============================] - 19s 761ms/step - loss: 0.6686 - accuracy: 0.5795 - val_loss: 0.6787 - val_accuracy: 0.5657 - lr: 2.0000e-04\n"
          ]
        }
      ]
    },
    {
      "cell_type": "code",
      "source": [
        "import matplotlib.pyplot as plt\n",
        "\n",
        "# Plotting training accuracy\n",
        "plt.plot(history.history['accuracy'], color='red', label='train')\n",
        "# Plotting validation accuracy\n",
        "plt.plot(history.history['val_accuracy'], color='blue', label='validation')\n",
        "# Adding a legend to distinguish between training and validation plots\n",
        "plt.legend()\n",
        "# Displaying the plot\n",
        "plt.show()"
      ],
      "metadata": {
        "colab": {
          "base_uri": "https://localhost:8080/",
          "height": 430
        },
        "id": "SQ48CoCVEkRS",
        "outputId": "15179e19-0313-482d-88fa-b352fba48dfb"
      },
      "execution_count": 37,
      "outputs": [
        {
          "output_type": "display_data",
          "data": {
            "text/plain": [
              "<Figure size 640x480 with 1 Axes>"
            ],
            "image/png": "[encoded data removed]"
          },
          "metadata": {}
        }
      ]
    },
    {
      "cell_type": "code",
      "source": [
        "# Plotting training loss\n",
        "plt.plot(history.history['loss'], color='red', label='train')\n",
        "# Plotting validation loss\n",
        "plt.plot(history.history['val_loss'], color='blue', label='validation')\n",
        "# Adding a legend to distinguish between training and validation plots\n",
        "plt.legend()\n",
        "# Displaying the plot\n",
        "plt.show()"
      ],
      "metadata": {
        "colab": {
          "base_uri": "https://localhost:8080/",
          "height": 430
        },
        "id": "BQow1gZjV-kW",
        "outputId": "43b682e4-22b9-4825-bcaf-6e5e1e6dd292"
      },
      "execution_count": 31,
      "outputs": [
        {
          "output_type": "display_data",
          "data": {
            "text/plain": [
              "<Figure size 640x480 with 1 Axes>"
            ],
            "image/png": "[encoded data removed]"
          },
          "metadata": {}
        }
      ]
    },
    {
      "cell_type": "code",
      "source": [
        "from keras.preprocessing.image import ImageDataGenerator\n",
        "\n",
        "# Creating a data generator for the test data with rescaling\n",
        "test_datagen = ImageDataGenerator(rescale=1./255)\n",
        "\n",
        "# Creating a data generator for the test data\n",
        "test_data = test_datagen.flow_from_directory(\n",
        "    test_dir,\n",
        "    target_size=(256, 256),\n",
        "    batch_size=32,\n",
        "    class_mode='binary'\n",
        ")"
      ],
      "metadata": {
        "colab": {
          "base_uri": "https://localhost:8080/"
        },
        "id": "A5lOMTIFWJPh",
        "outputId": "16ccad6b-c21e-47a4-820d-823a76b3a6e7"
      },
      "execution_count": 32,
      "outputs": [
        {
          "output_type": "stream",
          "name": "stdout",
          "text": [
            "Found 80 images belonging to 2 classes.\n"
          ]
        }
      ]
    },
    {
      "cell_type": "code",
      "source": [
        "# Predict the test data\n",
        "predictions = model.predict(test_data)\n",
        "predicted_labels = (predictions > 0.5).astype(int)"
      ],
      "metadata": {
        "colab": {
          "base_uri": "https://localhost:8080/"
        },
        "id": "yNhbeQmmWRv9",
        "outputId": "ed6dbf43-1a98-4f51-b86e-336d8a6df24f"
      },
      "execution_count": 34,
      "outputs": [
        {
          "output_type": "stream",
          "name": "stdout",
          "text": [
            "3/3 [==============================] - 1s 183ms/step\n"
          ]
        }
      ]
    },
    {
      "cell_type": "code",
      "source": [
        "len(predictions)"
      ],
      "metadata": {
        "colab": {
          "base_uri": "https://localhost:8080/"
        },
        "id": "Li1d9ntjW3wp",
        "outputId": "48493906-339f-4fb7-9554-fc164b4f5528"
      },
      "execution_count": 35,
      "outputs": [
        {
          "output_type": "execute_result",
          "data": {
            "text/plain": [
              "80"
            ]
          },
          "metadata": {},
          "execution_count": 35
        }
      ]
    },
    {
      "cell_type": "code",
      "source": [
        "\n",
        "# Evaluate the model\n",
        "from sklearn.metrics import confusion_matrix, classification_report\n",
        "\n",
        "# Get true labels\n",
        "true_labels = test_data.classes\n",
        "\n",
        "# Calculate confusion matrix\n",
        "cm = confusion_matrix(true_labels, predicted_labels)\n",
        "\n",
        "# Print confusion matrix and classification report\n",
        "print(\"Confusion Matrix:\")\n",
        "print(cm)\n",
        "print(\"Classification Report:\")\n",
        "print(classification_report(true_labels, predicted_labels))"
      ],
      "metadata": {
        "colab": {
          "base_uri": "https://localhost:8080/"
        },
        "id": "GhqQk1eTW9JF",
        "outputId": "1799cad3-da60-4057-8171-819ddbb90d63"
      },
      "execution_count": 36,
      "outputs": [
        {
          "output_type": "stream",
          "name": "stdout",
          "text": [
            "Confusion Matrix:\n",
            "[[15 25]\n",
            " [11 29]]\n",
            "Classification Report:\n",
            "              precision    recall  f1-score   support\n",
            "\n",
            "           0       0.58      0.38      0.45        40\n",
            "           1       0.54      0.72      0.62        40\n",
            "\n",
            "    accuracy                           0.55        80\n",
            "   macro avg       0.56      0.55      0.54        80\n",
            "weighted avg       0.56      0.55      0.54        80\n",
            "\n"
          ]
        }
      ]
    },
    {
      "cell_type": "code",
      "source": [
        "import tensorflow as tf\n",
        "from tensorflow.keras.preprocessing.image import ImageDataGenerator\n",
        "\n",
        "# Create ImageDataGenerator for training set\n",
        "train_datagen = ImageDataGenerator(\n",
        "    rescale=1./255,\n",
        "    validation_split=0.2  # Split 20% of the images for validation\n",
        ")\n",
        "\n",
        "# Load and prepare training data\n",
        "train_data = train_datagen.flow_from_directory(\n",
        "    train_dir,\n",
        "    target_size=(256,256),\n",
        "    batch_size=32,\n",
        "    class_mode='binary',  # 'binary' for binary classification (cats vs. dogs)\n",
        "    subset='training'  # Specify 'training' for the training set\n",
        ")\n",
        "\n",
        "# Create ImageDataGenerator for validation set\n",
        "validation_datagen = ImageDataGenerator(\n",
        "    rescale=1./255,\n",
        "    validation_split=0.2  # Note: Using the same validation split as in the training set\n",
        ")\n",
        "\n",
        "# Load and prepare validation data\n",
        "validation_data = validation_datagen.flow_from_directory(\n",
        "    train_dir,\n",
        "    target_size=(256,256),\n",
        "    batch_size=32,\n",
        "    class_mode='binary',\n",
        "    subset='validation'  # Specify 'validation' for the validation set\n",
        ")"
      ],
      "metadata": {
        "colab": {
          "base_uri": "https://localhost:8080/"
        },
        "id": "6pvqRKok6UCh",
        "outputId": "82db5865-dba9-485e-dff8-f0e4856d8087"
      },
      "execution_count": 4,
      "outputs": [
        {
          "output_type": "stream",
          "name": "stdout",
          "text": [
            "Found 64 images belonging to 2 classes.\n",
            "Found 16 images belonging to 2 classes.\n"
          ]
        }
      ]
    },
    {
      "cell_type": "code",
      "source": [
        "from tensorflow import keras\n",
        "from keras import Sequential\n",
        "from keras.layers import Dense,Conv2D,MaxPooling2D,Flatten\n",
        "\n",
        "resnet_model = Sequential()    #ResNet50 is a pre-trained model\n",
        "pretrained_model = tf.keras.applications.ResNet50(include_top = False, #because i have my own image of a diff dimension\n",
        "                                                input_shape = (256,256,3),\n",
        "                                                pooling = 'max', classes = 2,\n",
        "                                                weights = 'imagenet')\n",
        "for layer in pretrained_model.layers:\n",
        "    layer.trainable = False  #all layers in the Resnet50 is not trainable; keep those weights; I am going to add my own i/p and other layers\n",
        "\n",
        "resnet_model.add(pretrained_model)\n",
        "resnet_model.add(Flatten())\n",
        "resnet_model.add(Dense(512, activation = 'relu'))\n",
        "resnet_model.add(Dense(1, activation = 'sigmoid'))"
      ],
      "metadata": {
        "colab": {
          "base_uri": "https://localhost:8080/"
        },
        "id": "_FzHKqGq6Y1B",
        "outputId": "5c002a2c-7970-4b50-8def-9d91d98ad698"
      },
      "execution_count": 5,
      "outputs": [
        {
          "output_type": "stream",
          "name": "stdout",
          "text": [
            "Downloading data from https://storage.googleapis.com/tensorflow/keras-applications/resnet/resnet50_weights_tf_dim_ordering_tf_kernels_notop.h5\n",
            "94765736/94765736 [==============================] - 5s 0us/step\n"
          ]
        }
      ]
    },
    {
      "cell_type": "code",
      "source": [
        "resnet_model.summary()"
      ],
      "metadata": {
        "colab": {
          "base_uri": "https://localhost:8080/"
        },
        "id": "EyzJd7Ss6cCm",
        "outputId": "96420a2d-a52b-4c78-a15c-ab9ad8d62427"
      },
      "execution_count": 6,
      "outputs": [
        {
          "output_type": "stream",
          "name": "stdout",
          "text": [
            "Model: \"sequential\"\n",
            "_________________________________________________________________\n",
            " Layer (type)                Output Shape              Param #   \n",
            "=================================================================\n",
            " resnet50 (Functional)       (None, 2048)              23587712  \n",
            "                                                                 \n",
            " flatten (Flatten)           (None, 2048)              0         \n",
            "                                                                 \n",
            " dense (Dense)               (None, 512)               1049088   \n",
            "                                                                 \n",
            " dense_1 (Dense)             (None, 1)                 513       \n",
            "                                                                 \n",
            "=================================================================\n",
            "Total params: 24637313 (93.98 MB)\n",
            "Trainable params: 1049601 (4.00 MB)\n",
            "Non-trainable params: 23587712 (89.98 MB)\n",
            "_________________________________________________________________\n"
          ]
        }
      ]
    },
    {
      "cell_type": "code",
      "source": [
        "from keras.optimizers import Adam\n",
        "resnet_model.compile(optimizer=Adam(learning_rate=0.001),loss='binary_crossentropy',metrics=['accuracy']) #binary_crossentropy - binary classification"
      ],
      "metadata": {
        "id": "s1660x9W6eks"
      },
      "execution_count": 7,
      "outputs": []
    },
    {
      "cell_type": "code",
      "source": [
        "history = resnet_model.fit(train_data, epochs=3, validation_data=validation_data)"
      ],
      "metadata": {
        "colab": {
          "base_uri": "https://localhost:8080/"
        },
        "id": "BramFF-A6hWA",
        "outputId": "2d617a4a-59fe-4d74-cfff-38d6b2384e6d"
      },
      "execution_count": 8,
      "outputs": [
        {
          "output_type": "stream",
          "name": "stdout",
          "text": [
            "Epoch 1/3\n",
            "2/2 [==============================] - 46s 37s/step - loss: 5.5907 - accuracy: 0.5000 - val_loss: 8.0108 - val_accuracy: 0.5000\n",
            "Epoch 2/3\n",
            "2/2 [==============================] - 1s 343ms/step - loss: 6.3965 - accuracy: 0.5000 - val_loss: 0.9775 - val_accuracy: 0.5000\n",
            "Epoch 3/3\n",
            "2/2 [==============================] - 1s 345ms/step - loss: 2.1399 - accuracy: 0.5000 - val_loss: 3.4273 - val_accuracy: 0.5000\n"
          ]
        }
      ]
    },
    {
      "cell_type": "code",
      "source": [
        "import matplotlib.pyplot as plt\n",
        "\n",
        "plt.plot(history.history['accuracy'],color='red',label='train')\n",
        "plt.plot(history.history['val_accuracy'],color='blue',label='validation')\n",
        "plt.legend()\n",
        "plt.show()"
      ],
      "metadata": {
        "colab": {
          "base_uri": "https://localhost:8080/",
          "height": 430
        },
        "id": "McX8NpnN6joW",
        "outputId": "c83193b5-a24d-4408-ede2-9db6ad6b77de"
      },
      "execution_count": 9,
      "outputs": [
        {
          "output_type": "display_data",
          "data": {
            "text/plain": [
              "<Figure size 640x480 with 1 Axes>"
            ],
            "image/png": "[encoded data removed]"
          },
          "metadata": {}
        }
      ]
    },
    {
      "cell_type": "code",
      "source": [
        "plt.plot(history.history['loss'],color='red',label='train')\n",
        "plt.plot(history.history['val_loss'],color='blue',label='validation')\n",
        "plt.legend()\n",
        "plt.show()"
      ],
      "metadata": {
        "colab": {
          "base_uri": "https://localhost:8080/",
          "height": 430
        },
        "id": "dKiTiI7m6lrP",
        "outputId": "fa2822ca-0f90-4e2d-e409-f0c59c929d60"
      },
      "execution_count": 10,
      "outputs": [
        {
          "output_type": "display_data",
          "data": {
            "text/plain": [
              "<Figure size 640x480 with 1 Axes>"
            ],
            "image/png": "[encoded data removed]"
          },
          "metadata": {}
        }
      ]
    },
    {
      "cell_type": "code",
      "source": [
        "test_datagen = ImageDataGenerator(rescale=1./255)\n",
        "test_data = test_datagen.flow_from_directory(\n",
        "    test_dir,\n",
        "    target_size=(256,256),\n",
        "    batch_size=32,\n",
        "    class_mode='binary'\n",
        ")"
      ],
      "metadata": {
        "colab": {
          "base_uri": "https://localhost:8080/"
        },
        "id": "s3fbSnJC6oKj",
        "outputId": "69ed3b74-92d8-434b-9423-ef3aa2b3a000"
      },
      "execution_count": 11,
      "outputs": [
        {
          "output_type": "stream",
          "name": "stdout",
          "text": [
            "Found 80 images belonging to 2 classes.\n"
          ]
        }
      ]
    },
    {
      "cell_type": "code",
      "source": [
        "#predict the test data\n",
        "predictions = resnet_model.predict(test_data)\n",
        "print(predictions)"
      ],
      "metadata": {
        "colab": {
          "base_uri": "https://localhost:8080/"
        },
        "id": "JUnIQpTv6qSF",
        "outputId": "c526af46-346d-42ec-ba5a-12a85bfca1fb"
      },
      "execution_count": 12,
      "outputs": [
        {
          "output_type": "stream",
          "name": "stdout",
          "text": [
            "3/3 [==============================] - 1s 139ms/step\n",
            "[[0.00092535]\n",
            " [0.00090334]\n",
            " [0.00142183]\n",
            " [0.00104367]\n",
            " [0.00099194]\n",
            " [0.00101464]\n",
            " [0.00089208]\n",
            " [0.00114796]\n",
            " [0.00091902]\n",
            " [0.00157521]\n",
            " [0.00093027]\n",
            " [0.00175523]\n",
            " [0.00119585]\n",
            " [0.00098564]\n",
            " [0.00065052]\n",
            " [0.00159946]\n",
            " [0.00090688]\n",
            " [0.0011595 ]\n",
            " [0.00099949]\n",
            " [0.00138651]\n",
            " [0.00105758]\n",
            " [0.00083521]\n",
            " [0.00193404]\n",
            " [0.00163601]\n",
            " [0.00224393]\n",
            " [0.00113979]\n",
            " [0.00142666]\n",
            " [0.00278536]\n",
            " [0.0009612 ]\n",
            " [0.00163239]\n",
            " [0.00078298]\n",
            " [0.00112653]\n",
            " [0.00215422]\n",
            " [0.00153057]\n",
            " [0.00088385]\n",
            " [0.00118522]\n",
            " [0.00094775]\n",
            " [0.00107598]\n",
            " [0.00221678]\n",
            " [0.00096727]\n",
            " [0.00128171]\n",
            " [0.00087998]\n",
            " [0.00076796]\n",
            " [0.00196049]\n",
            " [0.00078444]\n",
            " [0.00098537]\n",
            " [0.00135799]\n",
            " [0.00106611]\n",
            " [0.0011093 ]\n",
            " [0.00094602]\n",
            " [0.00176405]\n",
            " [0.00132538]\n",
            " [0.00084665]\n",
            " [0.0012202 ]\n",
            " [0.0009319 ]\n",
            " [0.00089216]\n",
            " [0.00107052]\n",
            " [0.00529224]\n",
            " [0.00079782]\n",
            " [0.00073013]\n",
            " [0.0013354 ]\n",
            " [0.00092667]\n",
            " [0.00120063]\n",
            " [0.00120641]\n",
            " [0.0012873 ]\n",
            " [0.00119821]\n",
            " [0.00127477]\n",
            " [0.0011111 ]\n",
            " [0.01033877]\n",
            " [0.01530069]\n",
            " [0.00111164]\n",
            " [0.00120053]\n",
            " [0.00152421]\n",
            " [0.00085393]\n",
            " [0.00105221]\n",
            " [0.00097876]\n",
            " [0.00126835]\n",
            " [0.00133823]\n",
            " [0.00122646]\n",
            " [0.00105293]]\n"
          ]
        }
      ]
    },
    {
      "cell_type": "code",
      "source": [
        "len(predictions)"
      ],
      "metadata": {
        "colab": {
          "base_uri": "https://localhost:8080/"
        },
        "id": "uRZ5DKU-6uRA",
        "outputId": "4516ac25-c541-4efd-de7e-a18bc3d95497"
      },
      "execution_count": 13,
      "outputs": [
        {
          "output_type": "execute_result",
          "data": {
            "text/plain": [
              "80"
            ]
          },
          "metadata": {},
          "execution_count": 13
        }
      ]
    },
    {
      "cell_type": "code",
      "source": [
        "from sklearn.metrics import confusion_matrix, classification_report\n",
        "\n",
        "# Assuming you have ground truth labels (true_labels) and predicted labels (predictions)\n",
        "true_labels = test_data.classes\n",
        "predicted_labels = (predictions > 0.5).astype(int)  # Adjust the threshold as needed\n",
        "\n",
        "# Calculate confusion matrix\n",
        "cm = confusion_matrix(true_labels, predicted_labels)\n",
        "\n",
        "# Print confusion matrix\n",
        "print(\"Confusion Matrix:\")\n",
        "print(cm)\n",
        "\n",
        "# Print classification report\n",
        "print(\"Classification Report:\")\n",
        "print(classification_report(true_labels, predicted_labels))"
      ],
      "metadata": {
        "colab": {
          "base_uri": "https://localhost:8080/"
        },
        "id": "4Y3_T0zz6u_W",
        "outputId": "d190af32-7bed-4aee-ffab-1a14949008a1"
      },
      "execution_count": 14,
      "outputs": [
        {
          "output_type": "stream",
          "name": "stdout",
          "text": [
            "Confusion Matrix:\n",
            "[[40  0]\n",
            " [40  0]]\n",
            "Classification Report:\n",
            "              precision    recall  f1-score   support\n",
            "\n",
            "           0       0.50      1.00      0.67        40\n",
            "           1       0.00      0.00      0.00        40\n",
            "\n",
            "    accuracy                           0.50        80\n",
            "   macro avg       0.25      0.50      0.33        80\n",
            "weighted avg       0.25      0.50      0.33        80\n",
            "\n"
          ]
        },
        {
          "output_type": "stream",
          "name": "stderr",
          "text": [
            "/usr/local/lib/python3.10/dist-packages/sklearn/metrics/_classification.py:1344: UndefinedMetricWarning: Precision and F-score are ill-defined and being set to 0.0 in labels with no predicted samples. Use `zero_division` parameter to control this behavior.\n",
            "  _warn_prf(average, modifier, msg_start, len(result))\n",
            "/usr/local/lib/python3.10/dist-packages/sklearn/metrics/_classification.py:1344: UndefinedMetricWarning: Precision and F-score are ill-defined and being set to 0.0 in labels with no predicted samples. Use `zero_division` parameter to control this behavior.\n",
            "  _warn_prf(average, modifier, msg_start, len(result))\n",
            "/usr/local/lib/python3.10/dist-packages/sklearn/metrics/_classification.py:1344: UndefinedMetricWarning: Precision and F-score are ill-defined and being set to 0.0 in labels with no predicted samples. Use `zero_division` parameter to control this behavior.\n",
            "  _warn_prf(average, modifier, msg_start, len(result))\n"
          ]
        }
      ]
    }
  ]
}